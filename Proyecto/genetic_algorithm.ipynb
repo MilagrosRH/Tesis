{
 "cells": [
  {
   "cell_type": "code",
   "execution_count": 155,
   "metadata": {},
   "outputs": [],
   "source": [
    "import pandas as pd\n",
    "class Individual_diets:\n",
    "    \"Clase que implementa el individuo en el problema de dietas\"\n",
    "\n",
    "    def __init__(self, chromosome,limits):\n",
    "        self.chromosome = chromosome[:]  #  chromosome =dieta\n",
    "        self.fitness = -1  #  fitness = -1\n",
    "        self.limits=limits\n",
    "\n",
    "        \n",
    "    def search_limit(self, chromosome):\n",
    "        for (i,j) in self.chromosome:\n",
    "             for (food,l) in self.limits:\n",
    "                    if food==i:\n",
    "                        return l\n",
    "        return 0\n",
    "    \n",
    "    def crossover(self, other):\n",
    "\n",
    "        chromosome = []\n",
    "        \"Retorna dos nuevos individuos del cruzamiento uniforme entre self y other \"\n",
    "        for (i,j) in self.chromosome:\n",
    "            for (i1,j1) in other.chromosome:\n",
    "                if(i==i1):\n",
    "                    chromosome.append((i,(j+j1)/2))\n",
    "        return Individual_diets(chromosome,self.limits)\n",
    "\n",
    "    def mutate(self):\n",
    "        \"Cambia aleatoriamente la cantidad de porciones de un alimento en el cromosoma\"\n",
    "        mutated_ind = Individual_diets(self.chromosome[:],self.limits)\n",
    "        index = random.randint(0, len(mutated_ind.chromosome)-1)\n",
    "        newPos = random.randint(0, self.search_limit(mutated_ind.chromosome[index]))\n",
    "        mutated_ind.chromosome[index] = newPos\n",
    "        return mutated_ind\n"
   ]
  },
  {
   "cell_type": "code",
   "execution_count": 197,
   "metadata": {},
   "outputs": [],
   "source": [
    "import random\n",
    "\n",
    "def genetic_algorithm(population, fitness_fn, ngen=100, pmut=0.1,cal=1350):\n",
    "    \"Algoritmo Genetico \"\n",
    "    \n",
    "    popsize = len(population)\n",
    "    evaluate_population(population, fitness_fn,cal)  # evalua la poblacion inicial\n",
    "    ibest = sorted(range(len(population)), key=lambda i: population[i].fitness)[:1]\n",
    "    bestfitness = [population[ibest[0]].fitness]\n",
    "    print(\"Poblacion inicial, best_fitness = {}\".format(population[ibest[0]].fitness))\n",
    "    \n",
    "    for g in range(ngen):   # Por cada generacion\n",
    "        \n",
    "        ## Selecciona las parejas de padres para cruzamiento \n",
    "        mating_pool = []\n",
    "        for i in range(int(popsize/2)): mating_pool.append(select_parents_roulette(population)) \n",
    "        \n",
    "        ## Crea la poblacion descendencia cruzando las parejas del mating pool \n",
    "        offspring_population = []\n",
    "        for i in range(len(mating_pool)): \n",
    "            offspring_population.append( mating_pool[i][0].crossover(mating_pool[i][1]) ) # cruzamiento \n",
    "          \n",
    "        ## Aplica el operador de mutacion con probabilidad pmut en cada hijo generado\n",
    "        for i in range(len(offspring_population)):\n",
    "            if random.uniform(0, 1) < pmut: \n",
    "                    offspring_population[i] = offspring_population[i].mutate()   # mutacion de una posicion\n",
    "\n",
    "        \n",
    "        ## Evalua la poblacion descendencia creada\n",
    "        evaluate_population(offspring_population, fitness_fn,cal)  # evalua la poblacion inicial\n",
    "        \n",
    "        ## Selecciona popsize individuos para la sgte. generación de la union de la pob. actual y  pob. descendencia\n",
    "        population = select_survivors(population, offspring_population, popsize)\n",
    "\n",
    "        ## Almacena la historia del fitness del mejor individuo\n",
    "        ibest = sorted(range(len(population)), key=lambda i: population[i].fitness, reverse=True)[:1]\n",
    "        bestfitness.append(population[ibest[0]].fitness)\n",
    "        print(\"generacion {}, best_fitness = {},best_cromosoma = {}\".format(g, population[ibest[0]].fitness,population[ibest[0]].chromosome))\n",
    "    \n",
    "    return population[ibest[0]], bestfitness  "
   ]
  },
  {
   "cell_type": "code",
   "execution_count": 198,
   "metadata": {},
   "outputs": [],
   "source": [
    "def evaluate_population(population, fitness_fn,cal):\n",
    "    \"\"\" Evalua una poblacion de individuos con la funcion de fitness pasada \"\"\"\n",
    "    popsize = len(population)\n",
    "    for i in range(popsize):\n",
    "        if population[i].fitness == -1:    # si el individuo no esta evaluado\n",
    "            population[i].fitness = fitness_fn(population[i].chromosome,cal)"
   ]
  },
  {
   "cell_type": "code",
   "execution_count": 207,
   "metadata": {},
   "outputs": [],
   "source": [
    "def fitness_diet(chromosome,cal):\n",
    "    \"\"\"Retorna el fitness de un cromosoma en el problema de dietas \"\"\"\n",
    "    data=pd.read_csv('data_Alimentos.csv',delimiter=',')\n",
    "\n",
    "    for (i,j) in chromosome:\n",
    "        count=0\n",
    "        fit=0\n",
    "        for f in data[data.columns[1]]:\n",
    "            if f==i:\n",
    "                fit+= (data.loc[count][3])*j\n",
    "            count+=1\n",
    "    fitness= cal-fit;\n",
    "    return fitness"
   ]
  },
  {
   "cell_type": "code",
   "execution_count": 208,
   "metadata": {},
   "outputs": [],
   "source": [
    "def select_parents_roulette(population):\n",
    "    popsize = len(population)\n",
    "    \n",
    "    # Escoje el primer padre\n",
    "    sumfitness = sum([indiv.fitness for indiv in population])  # suma total del fitness de la poblacion\n",
    "    pickfitness = random.uniform(0, sumfitness)   # escoge un numero aleatorio entre 0 y sumfitness\n",
    "    cumfitness = 0     # fitness acumulado\n",
    "    for i in range(popsize):\n",
    "        cumfitness += population[i].fitness\n",
    "        if cumfitness > pickfitness: \n",
    "            iParent1 = i\n",
    "            break\n",
    "     \n",
    "    # Escoje el segundo padre, desconsiderando el primer padre\n",
    "    sumfitness = sumfitness - population[iParent1].fitness # retira el fitness del padre ya escogido\n",
    "    pickfitness = random.uniform(0, sumfitness)   # escoge un numero aleatorio entre 0 y sumfitness\n",
    "    cumfitness = 0     # fitness acumulado\n",
    "    for i in range(popsize):\n",
    "        if i == iParent1: continue   # si es el primer padre \n",
    "        cumfitness += population[i].fitness\n",
    "        if cumfitness > pickfitness: \n",
    "            iParent2 = i\n",
    "            break        \n",
    "    return (population[iParent1], population[iParent2])"
   ]
  },
  {
   "cell_type": "code",
   "execution_count": 209,
   "metadata": {},
   "outputs": [],
   "source": [
    "def select_survivors(population, offspring_population, numsurvivors):\n",
    "    next_population = []\n",
    "    population.extend(offspring_population) # une las dos poblaciones\n",
    "    isurvivors = sorted(range(len(population)), key=lambda i: population[i].fitness)[:numsurvivors]\n",
    "    for i in range(numsurvivors): next_population.append(population[isurvivors[i]])\n",
    "    return next_population"
   ]
  },
  {
   "cell_type": "code",
   "execution_count": 210,
   "metadata": {},
   "outputs": [],
   "source": [
    "\n",
    "foodlist=[('apio',2),('fresa',1),('manzana',0),('arroz',1),('aji',0),('lechuga',2),('res',1),('papa',1),('cebolla',0),('leche',0)]\n",
    "\n"
   ]
  },
  {
   "cell_type": "code",
   "execution_count": 211,
   "metadata": {},
   "outputs": [],
   "source": [
    "from itertools import combinations, permutations,product\n",
    "def generate_population(foodlist):\n",
    "    alimentos=[]\n",
    "    for (a,b)in foodlist:\n",
    "        if (b==0):\n",
    "            alimento=[]\n",
    "            for i in range(3):\n",
    "                alimento.append((a,i))\n",
    "        if (b==1):\n",
    "            alimento=[]\n",
    "            for i in range(4,7):\n",
    "                alimento.append((a,i))\n",
    "        if (b==2):\n",
    "            alimento=[]\n",
    "            for i in range(4,7):\n",
    "                alimento.append((a,i))\n",
    "        alimentos.append(alimento)\n",
    "\n",
    "    productcartesian=product(*alimentos)\n",
    "    solutions=[]\n",
    "    for i in productcartesian:\n",
    "        solutions.append(Individual_diets(i,foodlist))\n",
    "    return solutions"
   ]
  },
  {
   "cell_type": "code",
   "execution_count": 212,
   "metadata": {},
   "outputs": [],
   "source": [
    "population=generate_population(foodlist)"
   ]
  },
  {
   "cell_type": "code",
   "execution_count": 213,
   "metadata": {},
   "outputs": [
    {
     "data": {
      "text/plain": [
       "(('apio', 4),\n",
       " ('fresa', 4),\n",
       " ('manzana', 0),\n",
       " ('arroz', 4),\n",
       " ('aji', 0),\n",
       " ('lechuga', 4),\n",
       " ('res', 4),\n",
       " ('papa', 4),\n",
       " ('cebolla', 2),\n",
       " ('leche', 1))"
      ]
     },
     "execution_count": 213,
     "metadata": {},
     "output_type": "execute_result"
    }
   ],
   "source": [
    "population[7].chromosome"
   ]
  },
  {
   "cell_type": "code",
   "execution_count": 222,
   "metadata": {},
   "outputs": [
    {
     "name": "stdout",
     "output_type": "stream",
     "text": [
      "Poblacion inicial, best_fitness = 874\n"
     ]
    },
    {
     "ename": "KeyboardInterrupt",
     "evalue": "",
     "output_type": "error",
     "traceback": [
      "\u001b[1;31m---------------------------------------------------------------------------\u001b[0m",
      "\u001b[1;31mKeyboardInterrupt\u001b[0m                         Traceback (most recent call last)",
      "\u001b[1;32m<ipython-input-222-ff45a2d6355f>\u001b[0m in \u001b[0;36m<module>\u001b[1;34m()\u001b[0m\n\u001b[1;32m----> 1\u001b[1;33m \u001b[0mbest_ind\u001b[0m\u001b[1;33m,\u001b[0m \u001b[0mbestfitness\u001b[0m \u001b[1;33m=\u001b[0m \u001b[0mgenetic_algorithm\u001b[0m\u001b[1;33m(\u001b[0m\u001b[0mpopulation\u001b[0m\u001b[1;33m,\u001b[0m \u001b[0mfitness_diet\u001b[0m\u001b[1;33m,\u001b[0m \u001b[1;36m2\u001b[0m\u001b[1;33m,\u001b[0m \u001b[1;36m0.5\u001b[0m\u001b[1;33m,\u001b[0m\u001b[1;36m1000\u001b[0m\u001b[1;33m)\u001b[0m\u001b[1;33m\u001b[0m\u001b[0m\n\u001b[0m\u001b[0;32m      2\u001b[0m \u001b[0mplt\u001b[0m\u001b[1;33m.\u001b[0m\u001b[0mplot\u001b[0m\u001b[1;33m(\u001b[0m\u001b[0mbestfitness\u001b[0m\u001b[1;33m)\u001b[0m\u001b[1;33m\u001b[0m\u001b[0m\n",
      "\u001b[1;32m<ipython-input-197-7d327d8f5b84>\u001b[0m in \u001b[0;36mgenetic_algorithm\u001b[1;34m(population, fitness_fn, ngen, pmut, cal)\u001b[0m\n\u001b[0;32m     14\u001b[0m         \u001b[1;31m## Selecciona las parejas de padres para cruzamiento\u001b[0m\u001b[1;33m\u001b[0m\u001b[1;33m\u001b[0m\u001b[0m\n\u001b[0;32m     15\u001b[0m         \u001b[0mmating_pool\u001b[0m \u001b[1;33m=\u001b[0m \u001b[1;33m[\u001b[0m\u001b[1;33m]\u001b[0m\u001b[1;33m\u001b[0m\u001b[0m\n\u001b[1;32m---> 16\u001b[1;33m         \u001b[1;32mfor\u001b[0m \u001b[0mi\u001b[0m \u001b[1;32min\u001b[0m \u001b[0mrange\u001b[0m\u001b[1;33m(\u001b[0m\u001b[0mint\u001b[0m\u001b[1;33m(\u001b[0m\u001b[0mpopsize\u001b[0m\u001b[1;33m/\u001b[0m\u001b[1;36m2\u001b[0m\u001b[1;33m)\u001b[0m\u001b[1;33m)\u001b[0m\u001b[1;33m:\u001b[0m \u001b[0mmating_pool\u001b[0m\u001b[1;33m.\u001b[0m\u001b[0mappend\u001b[0m\u001b[1;33m(\u001b[0m\u001b[0mselect_parents_roulette\u001b[0m\u001b[1;33m(\u001b[0m\u001b[0mpopulation\u001b[0m\u001b[1;33m)\u001b[0m\u001b[1;33m)\u001b[0m\u001b[1;33m\u001b[0m\u001b[0m\n\u001b[0m\u001b[0;32m     17\u001b[0m \u001b[1;33m\u001b[0m\u001b[0m\n\u001b[0;32m     18\u001b[0m         \u001b[1;31m## Crea la poblacion descendencia cruzando las parejas del mating pool\u001b[0m\u001b[1;33m\u001b[0m\u001b[1;33m\u001b[0m\u001b[0m\n",
      "\u001b[1;32m<ipython-input-208-6fe3d572ce2f>\u001b[0m in \u001b[0;36mselect_parents_roulette\u001b[1;34m(population)\u001b[0m\n\u001b[0;32m     18\u001b[0m     \u001b[1;32mfor\u001b[0m \u001b[0mi\u001b[0m \u001b[1;32min\u001b[0m \u001b[0mrange\u001b[0m\u001b[1;33m(\u001b[0m\u001b[0mpopsize\u001b[0m\u001b[1;33m)\u001b[0m\u001b[1;33m:\u001b[0m\u001b[1;33m\u001b[0m\u001b[0m\n\u001b[0;32m     19\u001b[0m         \u001b[1;32mif\u001b[0m \u001b[0mi\u001b[0m \u001b[1;33m==\u001b[0m \u001b[0miParent1\u001b[0m\u001b[1;33m:\u001b[0m \u001b[1;32mcontinue\u001b[0m   \u001b[1;31m# si es el primer padre\u001b[0m\u001b[1;33m\u001b[0m\u001b[0m\n\u001b[1;32m---> 20\u001b[1;33m         \u001b[0mcumfitness\u001b[0m \u001b[1;33m+=\u001b[0m \u001b[0mpopulation\u001b[0m\u001b[1;33m[\u001b[0m\u001b[0mi\u001b[0m\u001b[1;33m]\u001b[0m\u001b[1;33m.\u001b[0m\u001b[0mfitness\u001b[0m\u001b[1;33m\u001b[0m\u001b[0m\n\u001b[0m\u001b[0;32m     21\u001b[0m         \u001b[1;32mif\u001b[0m \u001b[0mcumfitness\u001b[0m \u001b[1;33m>\u001b[0m \u001b[0mpickfitness\u001b[0m\u001b[1;33m:\u001b[0m\u001b[1;33m\u001b[0m\u001b[0m\n\u001b[0;32m     22\u001b[0m             \u001b[0miParent2\u001b[0m \u001b[1;33m=\u001b[0m \u001b[0mi\u001b[0m\u001b[1;33m\u001b[0m\u001b[0m\n",
      "\u001b[1;31mKeyboardInterrupt\u001b[0m: "
     ]
    }
   ],
   "source": [
    "best_ind, bestfitness = genetic_algorithm(population, fitness_diet, 2, 0.5,1000)\n",
    "plt.plot(bestfitness)"
   ]
  },
  {
   "cell_type": "code",
   "execution_count": 219,
   "metadata": {},
   "outputs": [
    {
     "name": "stdout",
     "output_type": "stream",
     "text": [
      "apio 4\n",
      "fresa 4\n",
      "manzana 0\n",
      "arroz 4\n",
      "aji 0\n",
      "lechuga 4\n",
      "res 4\n",
      "papa 4\n",
      "cebolla 2\n",
      "leche 2\n"
     ]
    }
   ],
   "source": [
    "for (i,j) in population[8].chromosome:\n",
    "    print(i,j)"
   ]
  },
  {
   "cell_type": "code",
   "execution_count": 216,
   "metadata": {},
   "outputs": [],
   "source": [
    "a= population[7].crossover(population[8])"
   ]
  },
  {
   "cell_type": "code",
   "execution_count": 217,
   "metadata": {},
   "outputs": [
    {
     "data": {
      "text/plain": [
       "[('apio', 4.0),\n",
       " ('fresa', 4.0),\n",
       " ('manzana', 0.0),\n",
       " ('arroz', 4.0),\n",
       " ('aji', 0.0),\n",
       " ('lechuga', 4.0),\n",
       " ('res', 4.0),\n",
       " ('papa', 4.0),\n",
       " ('cebolla', 2.0),\n",
       " ('leche', 1.5)]"
      ]
     },
     "execution_count": 217,
     "metadata": {},
     "output_type": "execute_result"
    }
   ],
   "source": [
    "a.chromosome"
   ]
  },
  {
   "cell_type": "code",
   "execution_count": 220,
   "metadata": {},
   "outputs": [
    {
     "data": {
      "text/plain": [
       "1224"
      ]
     },
     "execution_count": 220,
     "metadata": {},
     "output_type": "execute_result"
    }
   ],
   "source": [
    "fitness_diet(population[8].chromosome,1350)"
   ]
  },
  {
   "cell_type": "code",
   "execution_count": null,
   "metadata": {},
   "outputs": [],
   "source": []
  }
 ],
 "metadata": {
  "kernelspec": {
   "display_name": "Python 3",
   "language": "python",
   "name": "python3"
  },
  "language_info": {
   "codemirror_mode": {
    "name": "ipython",
    "version": 3
   },
   "file_extension": ".py",
   "mimetype": "text/x-python",
   "name": "python",
   "nbconvert_exporter": "python",
   "pygments_lexer": "ipython3",
   "version": "3.6.4"
  }
 },
 "nbformat": 4,
 "nbformat_minor": 2
}
