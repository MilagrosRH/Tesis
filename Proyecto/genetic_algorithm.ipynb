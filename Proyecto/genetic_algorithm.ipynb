{
 "cells": [
  {
   "cell_type": "code",
   "execution_count": 47,
   "metadata": {},
   "outputs": [],
   "source": [
    "import pandas as pd\n",
    "class Individual_diets:\n",
    "    \"Clase que implementa el individuo en el problema de dietas\"\n",
    "\n",
    "    def __init__(self, chromosome,limits):\n",
    "        self.chromosome = chromosome[:]  #  chromosome =dieta\n",
    "        self.fitness = -1  #  fitness = -1\n",
    "        self.limits=limits\n",
    "\n",
    "        \n",
    "    def search_limit(self, chromosome):\n",
    "        for (i,j) in self.chromosome:\n",
    "             for (food,l) in self.limits:\n",
    "                    if food==i:\n",
    "                        return l\n",
    "        return 0\n",
    "    \n",
    "    def crossover(self, other):\n",
    "\n",
    "        chromosome = []\n",
    "        \"Retorna dos nuevos individuos del cruzamiento uniforme entre self y other \"\n",
    "        for (i,j) in self.chromosome:\n",
    "            for (i1,j1) in other.chromosome:\n",
    "                if(i==i1):\n",
    "                    chromosome.append((i,(j+j1)/2))\n",
    "        return Individual_diets(chromosome,self.limits)\n",
    "\n",
    "    def mutate(self):\n",
    "        \"Cambia aleatoriamente la cantidad de porciones de un alimento en el cromosoma\"\n",
    "        mutated_ind = Individual_diets(self.chromosome[:],self.limits)\n",
    "        index = random.randint(0, len(mutated_ind.chromosome)-1)\n",
    "        newPos = random.randint(0, self.search_limit(mutated_ind.chromosome[index]))\n",
    "        food=  mutated_ind.chromosome[index][0]\n",
    "        mutated_ind.chromosome[index] = (food,newPos)\n",
    "        return mutated_ind\n"
   ]
  },
  {
   "cell_type": "code",
   "execution_count": 48,
   "metadata": {},
   "outputs": [],
   "source": [
    "import random\n",
    "\n",
    "def genetic_algorithm(population, fitness_fn, ngen=100, pmut=0.1,cal=1350):\n",
    "    \"Algoritmo Genetico \"\n",
    "    \n",
    "    popsize = len(population)\n",
    "    evaluate_population(population, fitness_fn,cal)  # evalua la poblacion inicial\n",
    "    ibest = sorted(range(len(population)), key=lambda i: population[i].fitness)[:1]\n",
    "    bestfitness = [population[ibest[0]].fitness]\n",
    "    print(\"Poblacion inicial, best_fitness = {}\".format(population[ibest[0]].fitness))\n",
    "    \n",
    "    for g in range(ngen):   # Por cada generacion\n",
    "        \n",
    "        ## Selecciona las parejas de padres para cruzamiento \n",
    "        mating_pool = select_parents_tournament(population)\n",
    "        \n",
    "        ## Crea la poblacion descendencia cruzando las parejas del mating pool \n",
    "        offspring_population = []\n",
    "        for i in range(len(mating_pool)): \n",
    "            offspring_population.append( mating_pool[i][0].crossover(mating_pool[i][1]) ) # cruzamiento \n",
    "        \n",
    "        ## Aplica el operador de mutacion con probabilidad pmut en cada hijo generado\n",
    "        for i in range(len(offspring_population)):\n",
    "            if random.uniform(0, 1) < pmut: \n",
    "                    offspring_population[i] = offspring_population[i].mutate()   # mutacion de una posicion\n",
    "\n",
    "        \n",
    "        ## Evalua la poblacion descendencia creada\n",
    "        evaluate_population(offspring_population, fitness_fn,cal)  # evalua la poblacion inicial\n",
    "        \n",
    "        ## Selecciona popsize individuos para la sgte. generación de la union de la pob. actual y  pob. descendencia\n",
    "        population = select_survivors(population, offspring_population, popsize)\n",
    "\n",
    "        ## Almacena la historia del fitness del mejor individuo\n",
    "        ibest = sorted(range(len(population)), key=lambda i: population[i].fitness, reverse=True)[:1]\n",
    "        bestfitness.append(population[ibest[0]].fitness)\n",
    "        print(\"generacion {}, best_fitness = {},best_cromosoma = {}\".format(g, population[ibest[0]].fitness,population[ibest[0]].chromosome))\n",
    "    \n",
    "    return population[ibest[0]], bestfitness  "
   ]
  },
  {
   "cell_type": "code",
   "execution_count": 49,
   "metadata": {},
   "outputs": [],
   "source": [
    "def evaluate_population(population, fitness_fn,cal):\n",
    "    \"\"\" Evalua una poblacion de individuos con la funcion de fitness pasada \"\"\"\n",
    "    popsize = len(population)\n",
    "    for i in range(popsize):\n",
    "        if population[i].fitness == -1:    # si el individuo no esta evaluado\n",
    "            population[i].fitness = fitness_fn(population[i].chromosome,cal)"
   ]
  },
  {
   "cell_type": "code",
   "execution_count": 50,
   "metadata": {},
   "outputs": [],
   "source": [
    "def fitness_diet(chromosome,cal):\n",
    "    \"\"\"Retorna el fitness de un cromosoma en el problema de dietas \"\"\"\n",
    "    data=pd.read_csv('data_Alimentos.csv',delimiter=',')\n",
    "    for a in range(len(chromosome)):\n",
    "        i= chromosome[a][0]\n",
    "        j=chromosome[a][1]\n",
    "        count=0\n",
    "        fit=0\n",
    "        for f in data[data.columns[1]]:\n",
    "            if f==i:\n",
    "                fit+= (data.loc[count][3])*j\n",
    "            count+=1\n",
    "    fitness= cal-fit;\n",
    "    return fitness"
   ]
  },
  {
   "cell_type": "code",
   "execution_count": 30,
   "metadata": {},
   "outputs": [],
   "source": [
    "def tournament(population,selected,n,popsize):\n",
    "    best = None\n",
    "    for i in range(n):\n",
    "        index= random.randint(0, popsize-1)\n",
    "        ind=population[index]\n",
    "        if(selected[index]!=1):\n",
    "            if (best == None or ind.fitness > best.fitness):\n",
    "                best = ind\n",
    "                selected[i]=1\n",
    "    return best\n",
    "    \n",
    "def select_parents_tournament(population):\n",
    "    popsize = len(population)\n",
    "    n=(int)(len(population)/100*5)\n",
    "    selected= [0 for i in range(popsize)]\n",
    "    \n",
    "    for k in range(popsize):\n",
    "        pool=[]\n",
    "        first_parent=tournament(population,selected,n,popsize)\n",
    "        second_parent= tournament(population,selected,n,popsize)\n",
    "        pool.append((first_parent, second_parent))\n",
    "    print (pool)   \n",
    "    return pool\n",
    "        "
   ]
  },
  {
   "cell_type": "code",
   "execution_count": 31,
   "metadata": {},
   "outputs": [],
   "source": [
    "def select_survivors(population, offspring_population, numsurvivors):\n",
    "    next_population = []\n",
    "    population.extend(offspring_population) # une las dos poblaciones\n",
    "    isurvivors = sorted(range(len(population)), key=lambda i: population[i].fitness)[:numsurvivors]\n",
    "    for i in range(numsurvivors): next_population.append(population[isurvivors[i]])\n",
    "    return next_population"
   ]
  },
  {
   "cell_type": "code",
   "execution_count": 32,
   "metadata": {},
   "outputs": [],
   "source": [
    "\n",
    "foodlist=[('apio',2),('fresa',1),('manzana',0),('arroz',1),('aji',0),('lechuga',2),('res',1),('papa',1),('cebolla',0),('leche',0)]\n",
    "\n"
   ]
  },
  {
   "cell_type": "code",
   "execution_count": 33,
   "metadata": {},
   "outputs": [],
   "source": [
    "from itertools import combinations, permutations,product\n",
    "def generate_population(foodlist):\n",
    "    alimentos=[]\n",
    "    for (a,b)in foodlist:\n",
    "        if (b==0):\n",
    "            alimento=[]\n",
    "            for i in range(3):\n",
    "                alimento.append((a,i))\n",
    "        if (b==1):\n",
    "            alimento=[]\n",
    "            for i in range(4,7):\n",
    "                alimento.append((a,i))\n",
    "        if (b==2):\n",
    "            alimento=[]\n",
    "            for i in range(4,7):\n",
    "                alimento.append((a,i))\n",
    "        alimentos.append(alimento)\n",
    "\n",
    "    productcartesian=product(*alimentos)\n",
    "    solutions=[]\n",
    "    for i in productcartesian:\n",
    "        solutions.append(Individual_diets(i,foodlist))\n",
    "    return solutions"
   ]
  },
  {
   "cell_type": "code",
   "execution_count": 34,
   "metadata": {},
   "outputs": [],
   "source": [
    "population=generate_population(foodlist)"
   ]
  },
  {
   "cell_type": "code",
   "execution_count": 35,
   "metadata": {},
   "outputs": [
    {
     "data": {
      "text/plain": [
       "(('apio', 4),\n",
       " ('fresa', 4),\n",
       " ('manzana', 0),\n",
       " ('arroz', 4),\n",
       " ('aji', 0),\n",
       " ('lechuga', 4),\n",
       " ('res', 4),\n",
       " ('papa', 4),\n",
       " ('cebolla', 2),\n",
       " ('leche', 1))"
      ]
     },
     "execution_count": 35,
     "metadata": {},
     "output_type": "execute_result"
    }
   ],
   "source": [
    "population[7].chromosome"
   ]
  },
  {
   "cell_type": "code",
   "execution_count": 63,
   "metadata": {},
   "outputs": [
    {
     "name": "stdout",
     "output_type": "stream",
     "text": [
      "Poblacion inicial, best_fitness = 874\n",
      "[(<__main__.Individual_diets object at 0x7f5bf46fe2b0>, <__main__.Individual_diets object at 0x7f5bf4a076a0>)]\n",
      "generacion 0, best_fitness = 1000,best_cromosoma = (('apio', 4), ('fresa', 4), ('manzana', 0), ('arroz', 4), ('aji', 0), ('lechuga', 4), ('res', 4), ('papa', 4), ('cebolla', 0), ('leche', 0))\n",
      "[(<__main__.Individual_diets object at 0x7f5bf4b2e4a8>, <__main__.Individual_diets object at 0x7f5bf46b8160>)]\n",
      "generacion 1, best_fitness = 1000,best_cromosoma = (('apio', 4), ('fresa', 4), ('manzana', 0), ('arroz', 4), ('aji', 0), ('lechuga', 4), ('res', 4), ('papa', 4), ('cebolla', 0), ('leche', 0))\n",
      "[(<__main__.Individual_diets object at 0x7f5bf40be470>, <__main__.Individual_diets object at 0x7f5bf4851550>)]\n",
      "generacion 2, best_fitness = 1000,best_cromosoma = (('apio', 4), ('fresa', 4), ('manzana', 0), ('arroz', 4), ('aji', 0), ('lechuga', 4), ('res', 4), ('papa', 4), ('cebolla', 0), ('leche', 0))\n",
      "[(<__main__.Individual_diets object at 0x7f5bf4406160>, <__main__.Individual_diets object at 0x7f5bf4a62b38>)]\n",
      "generacion 3, best_fitness = 1000,best_cromosoma = (('apio', 4), ('fresa', 4), ('manzana', 0), ('arroz', 4), ('aji', 0), ('lechuga', 4), ('res', 4), ('papa', 4), ('cebolla', 0), ('leche', 0))\n",
      "[(<__main__.Individual_diets object at 0x7f5bf4039518>, <__main__.Individual_diets object at 0x7f5bf3fa9278>)]\n",
      "generacion 4, best_fitness = 1000,best_cromosoma = (('apio', 4), ('fresa', 4), ('manzana', 0), ('arroz', 4), ('aji', 0), ('lechuga', 4), ('res', 4), ('papa', 4), ('cebolla', 0), ('leche', 0))\n",
      "[(<__main__.Individual_diets object at 0x7f5bf4fb3128>, <__main__.Individual_diets object at 0x7f5bf44a12b0>)]\n",
      "generacion 5, best_fitness = 1000,best_cromosoma = (('apio', 4), ('fresa', 4), ('manzana', 0), ('arroz', 4), ('aji', 0), ('lechuga', 4), ('res', 4), ('papa', 4), ('cebolla', 0), ('leche', 0))\n",
      "[(<__main__.Individual_diets object at 0x7f5bf4b4dc88>, <__main__.Individual_diets object at 0x7f5bf3e7dba8>)]\n",
      "generacion 6, best_fitness = 1000,best_cromosoma = (('apio', 4), ('fresa', 4), ('manzana', 0), ('arroz', 4), ('aji', 0), ('lechuga', 4), ('res', 4), ('papa', 4), ('cebolla', 0), ('leche', 0))\n",
      "[(<__main__.Individual_diets object at 0x7f5bf400f7b8>, <__main__.Individual_diets object at 0x7f5bf45879e8>)]\n",
      "generacion 7, best_fitness = 1000,best_cromosoma = (('apio', 4), ('fresa', 4), ('manzana', 0), ('arroz', 4), ('aji', 0), ('lechuga', 4), ('res', 4), ('papa', 4), ('cebolla', 0), ('leche', 0))\n",
      "[(<__main__.Individual_diets object at 0x7f5bf495de80>, <__main__.Individual_diets object at 0x7f5bf3d985f8>)]\n",
      "generacion 8, best_fitness = 1000,best_cromosoma = (('apio', 4), ('fresa', 4), ('manzana', 0), ('arroz', 4), ('aji', 0), ('lechuga', 4), ('res', 4), ('papa', 4), ('cebolla', 0), ('leche', 0))\n",
      "[(<__main__.Individual_diets object at 0x7f5bf4931400>, <__main__.Individual_diets object at 0x7f5bf4daaa20>)]\n",
      "generacion 9, best_fitness = 1000,best_cromosoma = (('apio', 4), ('fresa', 4), ('manzana', 0), ('arroz', 4), ('aji', 0), ('lechuga', 4), ('res', 4), ('papa', 4), ('cebolla', 0), ('leche', 0))\n"
     ]
    }
   ],
   "source": [
    "best_ind, bestfitness = genetic_algorithm(population, fitness_diet, 10, 0.5,cal=1350)"
   ]
  },
  {
   "cell_type": "code",
   "execution_count": 66,
   "metadata": {},
   "outputs": [
    {
     "data": {
      "text/plain": [
       "[<matplotlib.lines.Line2D at 0x7f5bf5259ac8>]"
      ]
     },
     "execution_count": 66,
     "metadata": {},
     "output_type": "execute_result"
    },
    {
     "data": {
      "image/png": "[encoded data removed]",
      "text/plain": [
       "<matplotlib.figure.Figure at 0x7f5bf5304e80>"
      ]
     },
     "metadata": {},
     "output_type": "display_data"
    }
   ],
   "source": [
    "import matplotlib.pyplot as plt\n",
    "plt.plot(bestfitness)\n"
   ]
  },
  {
   "cell_type": "code",
   "execution_count": 13,
   "metadata": {},
   "outputs": [
    {
     "name": "stdout",
     "output_type": "stream",
     "text": [
      "apio 4\n",
      "fresa 4\n",
      "manzana 0\n",
      "arroz 4\n",
      "aji 0\n",
      "lechuga 4\n",
      "res 4\n",
      "papa 4\n",
      "cebolla 2\n",
      "leche 2\n"
     ]
    }
   ],
   "source": [
    "for (i,j) in population[8].chromosome:\n",
    "    print(i,j)"
   ]
  },
  {
   "cell_type": "code",
   "execution_count": 51,
   "metadata": {},
   "outputs": [],
   "source": [
    "a= population[7].crossover(population[8])"
   ]
  },
  {
   "cell_type": "code",
   "execution_count": 52,
   "metadata": {},
   "outputs": [
    {
     "data": {
      "text/plain": [
       "[('apio', 4.0),\n",
       " ('fresa', 4.0),\n",
       " ('manzana', 0.0),\n",
       " ('arroz', 4.0),\n",
       " ('aji', 0.0),\n",
       " ('lechuga', 4.0),\n",
       " ('res', 4.0),\n",
       " ('papa', 4.0),\n",
       " ('cebolla', 2.0),\n",
       " ('leche', 1.5)]"
      ]
     },
     "execution_count": 52,
     "metadata": {},
     "output_type": "execute_result"
    }
   ],
   "source": [
    "a.chromosome"
   ]
  },
  {
   "cell_type": "code",
   "execution_count": 53,
   "metadata": {},
   "outputs": [
    {
     "data": {
      "text/plain": [
       "(('apio', 4),\n",
       " ('fresa', 4),\n",
       " ('manzana', 0),\n",
       " ('arroz', 4),\n",
       " ('aji', 0),\n",
       " ('lechuga', 4),\n",
       " ('res', 4),\n",
       " ('papa', 4),\n",
       " ('cebolla', 2),\n",
       " ('leche', 1))"
      ]
     },
     "execution_count": 53,
     "metadata": {},
     "output_type": "execute_result"
    }
   ],
   "source": [
    " population[7].chromosome"
   ]
  },
  {
   "cell_type": "code",
   "execution_count": 56,
   "metadata": {},
   "outputs": [],
   "source": [
    "b=a.mutate()"
   ]
  },
  {
   "cell_type": "code",
   "execution_count": 57,
   "metadata": {},
   "outputs": [
    {
     "data": {
      "text/plain": [
       "[('apio', 4.0),\n",
       " ('fresa', 4.0),\n",
       " ('manzana', 0.0),\n",
       " ('arroz', 1),\n",
       " ('aji', 0.0),\n",
       " ('lechuga', 4.0),\n",
       " ('res', 4.0),\n",
       " ('papa', 4.0),\n",
       " ('cebolla', 2.0),\n",
       " ('leche', 1.5)]"
      ]
     },
     "execution_count": 57,
     "metadata": {},
     "output_type": "execute_result"
    }
   ],
   "source": [
    "b.chromosome"
   ]
  },
  {
   "cell_type": "code",
   "execution_count": 58,
   "metadata": {},
   "outputs": [
    {
     "data": {
      "text/plain": [
       "1255.5"
      ]
     },
     "execution_count": 58,
     "metadata": {},
     "output_type": "execute_result"
    }
   ],
   "source": [
    "fitness_diet(b.chromosome,1350)"
   ]
  },
  {
   "cell_type": "code",
   "execution_count": 67,
   "metadata": {},
   "outputs": [
    {
     "name": "stdout",
     "output_type": "stream",
     "text": [
      "Poblacion inicial, best_fitness = 874\n",
      "[(<__main__.Individual_diets object at 0x7f5bf4bd8400>, <__main__.Individual_diets object at 0x7f5bf5304ba8>)]\n",
      "generacion 0, best_fitness = 1350.0,best_cromosoma = [('apio', 4.5), ('fresa', 4.5), ('manzana', 2.0), ('arroz', 6.0), ('aji', 1.5), ('lechuga', 6.0), ('res', 6.0), ('papa', 5.0), ('cebolla', 1.0), ('leche', 0.0)]\n",
      "[(<__main__.Individual_diets object at 0x7f5bf4044518>, <__main__.Individual_diets object at 0x7f5bf3f78860>)]\n",
      "generacion 1, best_fitness = 1350.0,best_cromosoma = [('apio', 4.5), ('fresa', 4.5), ('manzana', 2.0), ('arroz', 6.0), ('aji', 1.5), ('lechuga', 6.0), ('res', 6.0), ('papa', 5.0), ('cebolla', 1.0), ('leche', 0.0)]\n",
      "[(<__main__.Individual_diets object at 0x7f5bf3d6c2b0>, <__main__.Individual_diets object at 0x7f5bf47ad898>)]\n",
      "generacion 2, best_fitness = 1350.0,best_cromosoma = [('apio', 4.5), ('fresa', 4.5), ('manzana', 2.0), ('arroz', 6.0), ('aji', 1.5), ('lechuga', 6.0), ('res', 6.0), ('papa', 5.0), ('cebolla', 1.0), ('leche', 0.0)]\n",
      "[(<__main__.Individual_diets object at 0x7f5bf4657160>, <__main__.Individual_diets object at 0x7f5bf48edfd0>)]\n",
      "generacion 3, best_fitness = 1350.0,best_cromosoma = [('apio', 4.5), ('fresa', 4.5), ('manzana', 2.0), ('arroz', 6.0), ('aji', 1.5), ('lechuga', 6.0), ('res', 6.0), ('papa', 5.0), ('cebolla', 1.0), ('leche', 0.0)]\n",
      "[(<__main__.Individual_diets object at 0x7f5bf31fda58>, <__main__.Individual_diets object at 0x7f5bf445cf28>)]\n",
      "generacion 4, best_fitness = 1350.0,best_cromosoma = [('apio', 4.5), ('fresa', 4.5), ('manzana', 2.0), ('arroz', 6.0), ('aji', 1.5), ('lechuga', 6.0), ('res', 6.0), ('papa', 5.0), ('cebolla', 1.0), ('leche', 0.0)]\n",
      "[(<__main__.Individual_diets object at 0x7f5bf40b4c50>, <__main__.Individual_diets object at 0x7f5bf3f1d710>)]\n",
      "generacion 5, best_fitness = 1350.0,best_cromosoma = [('apio', 4.5), ('fresa', 4.5), ('manzana', 2.0), ('arroz', 6.0), ('aji', 1.5), ('lechuga', 6.0), ('res', 6.0), ('papa', 5.0), ('cebolla', 1.0), ('leche', 0.0)]\n",
      "[(<__main__.Individual_diets object at 0x7f5bf3d82208>, <__main__.Individual_diets object at 0x7f5bf46524a8>)]\n",
      "generacion 6, best_fitness = 1350.0,best_cromosoma = [('apio', 4.5), ('fresa', 4.5), ('manzana', 2.0), ('arroz', 6.0), ('aji', 1.5), ('lechuga', 6.0), ('res', 6.0), ('papa', 5.0), ('cebolla', 1.0), ('leche', 0.0)]\n",
      "[(<__main__.Individual_diets object at 0x7f5bf5304ba8>, <__main__.Individual_diets object at 0x7f5bf4687c88>)]\n",
      "generacion 7, best_fitness = 1350.0,best_cromosoma = [('apio', 4.5), ('fresa', 4.5), ('manzana', 2.0), ('arroz', 6.0), ('aji', 1.5), ('lechuga', 6.0), ('res', 6.0), ('papa', 5.0), ('cebolla', 1.0), ('leche', 0.0)]\n",
      "[(<__main__.Individual_diets object at 0x7f5bf40831d0>, <__main__.Individual_diets object at 0x7f5bf3fcf518>)]\n",
      "generacion 8, best_fitness = 1350.0,best_cromosoma = [('apio', 4.5), ('fresa', 4.5), ('manzana', 2.0), ('arroz', 6.0), ('aji', 1.5), ('lechuga', 6.0), ('res', 6.0), ('papa', 5.0), ('cebolla', 1.0), ('leche', 0.0)]\n",
      "[(<__main__.Individual_diets object at 0x7f5bf41d5518>, <__main__.Individual_diets object at 0x7f5bf472d898>)]\n",
      "generacion 9, best_fitness = 1350.0,best_cromosoma = [('apio', 4.5), ('fresa', 4.5), ('manzana', 2.0), ('arroz', 6.0), ('aji', 1.5), ('lechuga', 6.0), ('res', 6.0), ('papa', 5.0), ('cebolla', 1.0), ('leche', 0.0)]\n"
     ]
    }
   ],
   "source": [
    "best_ind, bestfitness = genetic_algorithm(population, fitness_diet, 10, 0.5,cal=1350)"
   ]
  },
  {
   "cell_type": "code",
   "execution_count": 79,
   "metadata": {},
   "outputs": [
    {
     "data": {
      "image/png": "[encoded data removed]",
      "text/plain": [
       "<matplotlib.figure.Figure at 0x7f5be5e845f8>"
      ]
     },
     "metadata": {},
     "output_type": "display_data"
    }
   ],
   "source": [
    "fig, ax = plt.subplots(figsize=(16,9))\n",
    "ax.plot(bestfitness, label='best_fitness')\n",
    "\n",
    "ax.legend(loc='best')\n",
    "ax.set_title('Best fitness per generation')\n",
    "\n",
    "plt.grid(True)\n",
    "plt.show()\n",
    "\n"
   ]
  },
  {
   "cell_type": "code",
   "execution_count": null,
   "metadata": {},
   "outputs": [],
   "source": []
  }
 ],
 "metadata": {
  "kernelspec": {
   "display_name": "Python 3",
   "language": "python",
   "name": "python3"
  },
  "language_info": {
   "codemirror_mode": {
    "name": "ipython",
    "version": 3
   },
   "file_extension": ".py",
   "mimetype": "text/x-python",
   "name": "python",
   "nbconvert_exporter": "python",
   "pygments_lexer": "ipython3",
   "version": "3.6.4"
  }
 },
 "nbformat": 4,
 "nbformat_minor": 2
}
