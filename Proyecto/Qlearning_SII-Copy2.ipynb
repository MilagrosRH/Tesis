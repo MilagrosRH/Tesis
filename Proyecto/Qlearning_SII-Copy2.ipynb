{
 "cells": [
  {
   "cell_type": "markdown",
   "metadata": {},
   "source": [
    "# Problema de Markov basado en la persona con SII #\n",
    "\n",
    "Se crea un problema d emarkov ajustado al ambiente de la persona que consume ciertos alimentos y presenta ciertos sintomas"
   ]
  },
  {
   "cell_type": "code",
   "execution_count": 36,
   "metadata": {},
   "outputs": [],
   "source": [
    "from collections import defaultdict\n",
    "from utils import argmax\n",
    "from mdp import MDP, policy_evaluation\n",
    "from bayesianFood_lite import *\n",
    "from pgmpy.sampling import BayesianModelSampling\n",
    "import time\n",
    "\n",
    "class PersonFoodAndSympthonsMDP(MDP):\n",
    "    def __init__(self, model, actlist, terminals, reward=None, states=None, gamma=0.9):\n",
    "        if not (0 < gamma <= 1):\n",
    "            raise ValueError(\"An MDP must have 0 < gamma <= 1\")\n",
    "        #bayesian model\n",
    "        self.model= model\n",
    "        #symptoms list\n",
    "        sintomas=pd.read_csv(\"sintomas.csv\", delimiter=';')\n",
    "        # states\n",
    "        self.states = states\n",
    "        ## initial state\n",
    "        inference = BayesianModelSampling(self.model)\n",
    "        initial=inference.forward_sample()\n",
    "        init=[]\n",
    "        for b in sintomas['symptom']:\n",
    "            for a in list(initial):\n",
    "                if(a==b):\n",
    "                    init.append((b,initial.iloc[0][a]))\n",
    "        self.init = tuple(init)\n",
    "        #actions\n",
    "        self.actlist = actlist       \n",
    "        self.terminals = terminals\n",
    "\n",
    "        self.gamma = gamma\n",
    "\n",
    "        self.reward = reward or {s: 0 for s in self.states}\n",
    "    def calculate_reward(self,state):\n",
    "        aux=0\n",
    "        for (s,l) in state:\n",
    "            aux=aux+l\n",
    "        \n",
    "        reward=-aux\n",
    "        return reward\n",
    "\n",
    "    def getNextState(self, a):\n",
    "        evidence = a\n",
    "        inference = BayesianModelSampling(self.model)\n",
    "        week=inference.likelihood_weighted_sample(evidence=evidence, size=1)\n",
    "        status=[]\n",
    "        foods=[]\n",
    "        for b in sintomas['symptom']:\n",
    "            for a in list(week):\n",
    "                if(a==b):\n",
    "                    status.append((b,week.iloc[0][a]))\n",
    "        self.reward[tuple(status)]=self.calculate_reward(status)     \n",
    "        return tuple(status)"
   ]
  },
  {
   "cell_type": "code",
   "execution_count": 32,
   "metadata": {},
   "outputs": [],
   "source": [
    "import csv\n",
    "class QLearningAgent:\n",
    "    \"\"\" An exploratory Q-learning agent \"\"\"\n",
    "    def __init__(self, mdp, Ne, Rplus, alpha=None): #alpha 0.25 0.5 0.75\n",
    "\n",
    "        self.gamma = mdp.gamma\n",
    "        self.terminals = mdp.terminals\n",
    "        self.all_act = mdp.actlist\n",
    "        self.Ne = Ne  # iteration limit in exploration function\n",
    "        self.Rplus = Rplus  # large value to assign before iteration limit\n",
    "        self.Q = defaultdict(float)\n",
    "        self.Nsa = defaultdict(float)\n",
    "        self.s = None\n",
    "        self.a = None\n",
    "        self.r = None\n",
    "\n",
    "        if alpha:\n",
    "            self.alpha = alpha\n",
    "        else:\n",
    "            self.alpha = lambda n: 1./(1+n)  # udacity video\n",
    "\n",
    "    def f(self, u, n):\n",
    "        \"\"\" Exploration function. Returns fixed Rplus until\n",
    "        agent has visited state, action a Ne number of times.\n",
    "        Same as ADP agent in book.\"\"\"\n",
    "        if n < self.Ne:\n",
    "            return self.Rplus\n",
    "        else:\n",
    "            return u\n",
    "\n",
    "    def actions_in_state(self, state):\n",
    "        \"\"\" Return actions possible in given state.\n",
    "            Useful for max and argmax. \"\"\"\n",
    "        if state in self.terminals:\n",
    "            return [None]\n",
    "        else:\n",
    "            return self.all_act\n",
    "\n",
    "    def __call__(self, percept):\n",
    "        s1, r1 = self.update_state(percept)\n",
    "        Q, Nsa, s, a, r = self.Q, self.Nsa, self.s, self.a, self.r\n",
    "        alpha, gamma, terminals = self.alpha, self.gamma, self.terminals,\n",
    "        actions_in_state = self.actions_in_state\n",
    "        if r1 >=-2:\n",
    "            Q[s, None] = r1\n",
    "        if s is not None:\n",
    "            s1=tuple(s1)\n",
    "            a=tuple(a)\n",
    "            s=tuple(s)\n",
    "            Nsa[s, a] += 1\n",
    "            Q[s, a] += alpha*(Nsa[s, a]) * (r + gamma * max( Q[s1,tuple(a1)] for a1 in actions_in_state(s1)) - Q[s,a])\n",
    "        if r1 >=-2:\n",
    "            self.s = self.a = self.r = None\n",
    "        else:\n",
    "            self.s, self.r = s1, r1\n",
    "            self.a = argmax(actions_in_state(s1), key=lambda a1: self.f(Q[tuple(s1),tuple(a1)], Nsa[tuple(s1), tuple(a1)]))\n",
    "        return self.a\n",
    "\n",
    "    def update_state(self, percept):\n",
    "        \"\"\"To be overridden in most cases. The default case\n",
    "        assumes the percept to be of type (state, reward).\"\"\"\n",
    "        return percept\n",
    "\n",
    "\n",
    "def run_single_trial(agent_program, mdp):\n",
    "    \"\"\"Execute trial for given agent_program\n",
    "    and mdp. mdp should be an instance of subclass\n",
    "    of mdp.MDP \"\"\"\n",
    "\n",
    "    def take_single_action(mdp, s, a):\n",
    "        \"\"\"\n",
    "        Get the next state with the action selected\n",
    "        \"\"\"\n",
    "        state= mdp.getNextState(a)\n",
    "\n",
    "        return state\n",
    "\n",
    "    current_state = mdp.init\n",
    "    number_states=0\n",
    "    acumulated_reward=0\n",
    "    while True:\n",
    "        current_reward = mdp.calculate_reward(current_state)\n",
    "        acumulated_reward+=current_reward\n",
    "        percept = (current_state, current_reward)\n",
    "        next_action = agent_program(percept)\n",
    "        if next_action is None:\n",
    "            \n",
    "            break\n",
    "        number_states+=1\n",
    "        current_state = take_single_action(mdp, current_state, next_action)\n",
    "    single_trial=[number_states,acumulated_reward]\n",
    "    return single_trial\n",
    "    #print (\"El numero de estados \"+ str(number_states))\n",
    "    #print (\"El acumulado de rewar final \"+ str(acumulated_reward))\n"
   ]
  },
  {
   "cell_type": "markdown",
   "metadata": {},
   "source": [
    "Probamos el entorno"
   ]
  },
  {
   "cell_type": "code",
   "execution_count": 29,
   "metadata": {},
   "outputs": [],
   "source": [
    "import pickle\n",
    "pickled_file = open('sintomas.p','rb')\n",
    "u=pickle.Unpickler(pickled_file)\n",
    "states = u.load()\n"
   ]
  },
  {
   "cell_type": "code",
   "execution_count": 30,
   "metadata": {},
   "outputs": [
    {
     "data": {
      "text/plain": [
       "(('distensionAbdominal', 0),\n",
       " ('flatulencia', 0),\n",
       " ('dolorAbdominal', 0),\n",
       " ('reflujoGastroesofagico', 0),\n",
       " ('sintomasDispepsicos', 0),\n",
       " ('diarrea', 0),\n",
       " ('estrenimiento', 0),\n",
       " ('intolerancia', 0),\n",
       " ('borborigmos', 0))"
      ]
     },
     "execution_count": 30,
     "metadata": {},
     "output_type": "execute_result"
    }
   ],
   "source": [
    "states[0]"
   ]
  },
  {
   "cell_type": "code",
   "execution_count": 6,
   "metadata": {},
   "outputs": [],
   "source": [
    "import pickle\n",
    "pickled_file = open('alimentos_lite.p','rb')\n",
    "u=pickle.Unpickler(pickled_file)\n",
    "actlist = u.load()\n"
   ]
  },
  {
   "cell_type": "code",
   "execution_count": 7,
   "metadata": {},
   "outputs": [],
   "source": [
    "#symptoms list\n",
    "sintomas=pd.read_csv(\"sintomas.csv\", delimiter=';')\n",
    "terminals=[]\n",
    "terminal=[]\n",
    "for s in sintomas['symptom']:\n",
    "    terminal.append((s,0))\n",
    "terminals.append(terminal)\n",
    "i=0\n",
    "for s in sintomas['symptom']:\n",
    "    terminaln=terminal.copy()\n",
    "    terminaln[i]=(s,1)\n",
    "    i+=1\n",
    "    terminals.append(terminaln)"
   ]
  },
  {
   "cell_type": "code",
   "execution_count": 37,
   "metadata": {},
   "outputs": [],
   "source": [
    "model= create_model()"
   ]
  },
  {
   "cell_type": "code",
   "execution_count": 38,
   "metadata": {},
   "outputs": [],
   "source": [
    "from random import shuffle\n",
    "shuffle(actlist)"
   ]
  },
  {
   "cell_type": "code",
   "execution_count": 40,
   "metadata": {},
   "outputs": [],
   "source": [
    "mdpPerson= PersonFoodAndSympthonsMDP(model, actlist=(actlist[:30]), states=states, terminals=terminals)"
   ]
  },
  {
   "cell_type": "code",
   "execution_count": 11,
   "metadata": {},
   "outputs": [],
   "source": [
    "agent_Qlearn=QLearningAgent(mdpPerson, 5, 2, alpha=0.5)"
   ]
  },
  {
   "cell_type": "code",
   "execution_count": 99,
   "metadata": {},
   "outputs": [],
   "source": [
    "run_single_trial(agent_Qlearn, mdpPerson)"
   ]
  },
  {
   "cell_type": "code",
   "execution_count": 46,
   "metadata": {},
   "outputs": [],
   "source": [
    "import csv\n",
    " \n",
    "myData = [[\"Trial\", \"Number_states\", \"Accumulated_reward\",\"Time\"]]\n",
    "\n",
    "agent_Qlearn=QLearningAgent(mdpPerson, 5, 1, alpha=0.75)\n",
    "for i in range (200):\n",
    "    start = time.time()\n",
    "    data=run_single_trial(agent_Qlearn, mdpPerson)\n",
    "    end = time.time()\n",
    "    trial_time=end - start\n",
    "    myData.append([i,data[0],data[1], trial_time])\n"
   ]
  },
  {
   "cell_type": "code",
   "execution_count": 49,
   "metadata": {},
   "outputs": [],
   "source": [
    "myFile = open('test_alpha75.csv', 'w')    \n",
    "with myFile:\n",
    "    writer = csv.writer(myFile)\n",
    "    writer.writerows(myData)"
   ]
  },
  {
   "cell_type": "code",
   "execution_count": 48,
   "metadata": {},
   "outputs": [],
   "source": [
    "pickle.dump(agent_Qlearn.Q, open( \"Q75.p\", \"wb\" ))"
   ]
  },
  {
   "cell_type": "code",
   "execution_count": 42,
   "metadata": {},
   "outputs": [],
   "source": [
    "import pickle \n",
    "pickle.dump(mdpPerson, open( \"mdpPerson.p\", \"wb\" ))"
   ]
  },
  {
   "cell_type": "code",
   "execution_count": 49,
   "metadata": {},
   "outputs": [],
   "source": [
    " \n",
    "myData = [[\"Trial\", \"Number_states\", \"Accumulated_reward\",\"Time\"]]\n",
    "\n",
    "agent_Qlearn=QLearningAgent(mdpPerson, 5, 1, alpha=0.5)\n",
    "for i in range (200):\n",
    "    start = time.time()\n",
    "    data=run_single_trial(agent_Qlearn, mdpPerson)\n",
    "    end = time.time()\n",
    "    trial_time=end - start\n",
    "    myData.append([i,data[0],data[1], trial_time])\n",
    "    \n",
    "\n",
    "myFile = open('test_alpha5.csv', 'wb')    \n",
    "with myFile:\n",
    "    writer = csv.writer(myFile)\n",
    "    writer.writerows(myData)"
   ]
  },
  {
   "cell_type": "code",
   "execution_count": 44,
   "metadata": {},
   "outputs": [],
   "source": [
    "pickle.dump(agent_Qlearn.Q, open( \"Q5.p\", \"wb\" ))"
   ]
  },
  {
   "cell_type": "code",
   "execution_count": 56,
   "metadata": {},
   "outputs": [],
   "source": [
    "myData = [[\"Trial\", \"Number_states\", \"Accumulated_reward\",\"Time\"]]\n",
    "\n",
    "agent_Qlearn=QLearningAgent(mdpPerson, 5, 1, alpha=0.25)\n",
    "for i in range (200):\n",
    "    start = time.time()\n",
    "    data=run_single_trial(agent_Qlearn, mdpPerson)\n",
    "    end = time.time()\n",
    "    trial_time=end - start\n",
    "    myData.append([i,data[0],data[1], trial_time])\n",
    "    \n",
    "\n"
   ]
  },
  {
   "cell_type": "code",
   "execution_count": 52,
   "metadata": {},
   "outputs": [],
   "source": [
    "myFile = open('test_alpha25.csv', 'w')    \n",
    "with myFile:\n",
    "    writer = csv.writer(myFile)\n",
    "    writer.writerows(myData)"
   ]
  },
  {
   "cell_type": "code",
   "execution_count": 55,
   "metadata": {},
   "outputs": [],
   "source": [
    "pickle.dump(agent_Qlearn.Q, open( \"Q25.p\", \"wb\" ))"
   ]
  },
  {
   "cell_type": "code",
   "execution_count": null,
   "metadata": {},
   "outputs": [],
   "source": []
  }
 ],
 "metadata": {
  "kernelspec": {
   "display_name": "Python 3",
   "language": "python",
   "name": "python3"
  },
  "language_info": {
   "codemirror_mode": {
    "name": "ipython",
    "version": 3
   },
   "file_extension": ".py",
   "mimetype": "text/x-python",
   "name": "python",
   "nbconvert_exporter": "python",
   "pygments_lexer": "ipython3",
   "version": "3.6.4"
  }
 },
 "nbformat": 4,
 "nbformat_minor": 2
}
