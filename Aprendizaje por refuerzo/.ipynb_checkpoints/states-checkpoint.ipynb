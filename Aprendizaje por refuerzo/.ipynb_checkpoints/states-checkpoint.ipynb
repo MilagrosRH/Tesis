{
 "cells": [
  {
   "cell_type": "code",
   "execution_count": 4,
   "metadata": {},
   "outputs": [
    {
     "data": {
      "text/plain": [
       "[('distensionAbdominal', 0),\n",
       " ('distensionAbdominal', 1),\n",
       " ('distensionAbdominal', 2),\n",
       " ('flatulencia', 0),\n",
       " ('flatulencia', 1),\n",
       " ('flatulencia', 2),\n",
       " ('dolorAbdominal', 0),\n",
       " ('dolorAbdominal', 1),\n",
       " ('dolorAbdominal', 2),\n",
       " ('reflujoGastroesofagico', 0),\n",
       " ('reflujoGastroesofagico', 1),\n",
       " ('reflujoGastroesofagico', 2),\n",
       " ('sintomasDispepsicos', 0),\n",
       " ('sintomasDispepsicos', 1),\n",
       " ('sintomasDispepsicos', 2),\n",
       " ('diarrea', 0),\n",
       " ('diarrea', 1),\n",
       " ('diarrea', 2),\n",
       " ('estrenimiento', 0),\n",
       " ('estrenimiento', 1),\n",
       " ('estrenimiento', 2),\n",
       " ('intolerancia', 0),\n",
       " ('intolerancia', 1),\n",
       " ('intolerancia', 2),\n",
       " ('borborigmos', 0),\n",
       " ('borborigmos', 1),\n",
       " ('borborigmos', 2)]"
      ]
     },
     "execution_count": 4,
     "metadata": {},
     "output_type": "execute_result"
    }
   ],
   "source": [
    "from itertools import combinations, permutations,product\n",
    "import pandas as pd\n",
    "sintomas=pd.read_csv(\"sintomas.csv\", delimiter=';')\n",
    "l=len(sintomas['symptom'])\n",
    "levels=[0,1,2]\n",
    "productcartesian=list(product(sintomas['symptom'],levels))\n",
    "productcartesian\n"
   ]
  },
  {
   "cell_type": "code",
   "execution_count": 5,
   "metadata": {},
   "outputs": [
    {
     "name": "stderr",
     "output_type": "stream",
     "text": [
      "IOPub data rate exceeded.\n",
      "The notebook server will temporarily stop sending output\n",
      "to the client in order to avoid crashing it.\n",
      "To change this limit, set the config variable\n",
      "`--NotebookApp.iopub_data_rate_limit`.\n",
      "\n",
      "Current values:\n",
      "NotebookApp.iopub_data_rate_limit=1000000.0 (bytes/sec)\n",
      "NotebookApp.rate_limit_window=3.0 (secs)\n",
      "\n"
     ]
    }
   ],
   "source": [
    "g=list(combinations(productcartesian,l))\n"
   ]
  },
  {
   "cell_type": "code",
   "execution_count": 8,
   "metadata": {},
   "outputs": [
    {
     "ename": "NameError",
     "evalue": "name 'sol' is not defined",
     "output_type": "error",
     "traceback": [
      "\u001b[1;31m---------------------------------------------------------------------------\u001b[0m",
      "\u001b[1;31mNameError\u001b[0m                                 Traceback (most recent call last)",
      "\u001b[1;32m<ipython-input-8-ddb9da246a13>\u001b[0m in \u001b[0;36m<module>\u001b[1;34m()\u001b[0m\n\u001b[0;32m     13\u001b[0m         \u001b[0msolutions\u001b[0m\u001b[1;33m.\u001b[0m\u001b[0mappend\u001b[0m\u001b[1;33m(\u001b[0m\u001b[0mi\u001b[0m\u001b[1;33m)\u001b[0m\u001b[1;33m\u001b[0m\u001b[0m\n\u001b[0;32m     14\u001b[0m \u001b[1;33m\u001b[0m\u001b[0m\n\u001b[1;32m---> 15\u001b[1;33m \u001b[0mprint\u001b[0m \u001b[1;33m(\u001b[0m\u001b[0mlen\u001b[0m\u001b[1;33m(\u001b[0m\u001b[0msol\u001b[0m\u001b[1;33m)\u001b[0m\u001b[1;33m)\u001b[0m\u001b[1;33m\u001b[0m\u001b[0m\n\u001b[0m",
      "\u001b[1;31mNameError\u001b[0m: name 'sol' is not defined"
     ]
    }
   ],
   "source": [
    "solutions=[]\n",
    "\n",
    "for i in g:\n",
    "    nova =False\n",
    "    for n in i:\n",
    "        c,p=n\n",
    "        for k in  [(m,n) for (m,n) in i if (m,n)!=(c,p)]:\n",
    "            ci,pi=k\n",
    "            if (c==ci):\n",
    "                nova=True\n",
    "                break\n",
    "    if nova==False:\n",
    "        solutions.append(i)\n"
   ]
  },
  {
   "cell_type": "code",
   "execution_count": 9,
   "metadata": {},
   "outputs": [
    {
     "name": "stdout",
     "output_type": "stream",
     "text": [
      "19683\n"
     ]
    }
   ],
   "source": [
    "print (len(solutions))"
   ]
  },
  {
   "cell_type": "code",
   "execution_count": 15,
   "metadata": {},
   "outputs": [
    {
     "data": {
      "text/plain": [
       "[(('distensionAbdominal', 0),\n",
       "  ('flatulencia', 0),\n",
       "  ('dolorAbdominal', 0),\n",
       "  ('reflujoGastroesofagico', 0),\n",
       "  ('sintomasDispepsicos', 0),\n",
       "  ('diarrea', 0),\n",
       "  ('estrenimiento', 0),\n",
       "  ('intolerancia', 0),\n",
       "  ('borborigmos', 0)),\n",
       " (('distensionAbdominal', 0),\n",
       "  ('flatulencia', 0),\n",
       "  ('dolorAbdominal', 0),\n",
       "  ('reflujoGastroesofagico', 0),\n",
       "  ('sintomasDispepsicos', 0),\n",
       "  ('diarrea', 0),\n",
       "  ('estrenimiento', 0),\n",
       "  ('intolerancia', 0),\n",
       "  ('borborigmos', 1)),\n",
       " (('distensionAbdominal', 0),\n",
       "  ('flatulencia', 0),\n",
       "  ('dolorAbdominal', 0),\n",
       "  ('reflujoGastroesofagico', 0),\n",
       "  ('sintomasDispepsicos', 0),\n",
       "  ('diarrea', 0),\n",
       "  ('estrenimiento', 0),\n",
       "  ('intolerancia', 0),\n",
       "  ('borborigmos', 2)),\n",
       " (('distensionAbdominal', 0),\n",
       "  ('flatulencia', 0),\n",
       "  ('dolorAbdominal', 0),\n",
       "  ('reflujoGastroesofagico', 0),\n",
       "  ('sintomasDispepsicos', 0),\n",
       "  ('diarrea', 0),\n",
       "  ('estrenimiento', 0),\n",
       "  ('intolerancia', 1),\n",
       "  ('borborigmos', 0)),\n",
       " (('distensionAbdominal', 0),\n",
       "  ('flatulencia', 0),\n",
       "  ('dolorAbdominal', 0),\n",
       "  ('reflujoGastroesofagico', 0),\n",
       "  ('sintomasDispepsicos', 0),\n",
       "  ('diarrea', 0),\n",
       "  ('estrenimiento', 0),\n",
       "  ('intolerancia', 1),\n",
       "  ('borborigmos', 1))]"
      ]
     },
     "execution_count": 15,
     "metadata": {},
     "output_type": "execute_result"
    }
   ],
   "source": [
    "solutions[:5]"
   ]
  },
  {
   "cell_type": "code",
   "execution_count": 20,
   "metadata": {},
   "outputs": [],
   "source": [
    "import pandas\n",
    "pd = pandas.DataFrame(solutions)\n",
    "pd.to_csv(\"solutions.csv\")"
   ]
  },
  {
   "cell_type": "code",
   "execution_count": 55,
   "metadata": {},
   "outputs": [
    {
     "name": "stdout",
     "output_type": "stream",
     "text": [
      "0\n",
      "('distensionAbdominal', 0)\n",
      "1\n",
      "('distensionAbdominal', 0)\n",
      "2\n",
      "('distensionAbdominal', 0)\n",
      "3\n",
      "('distensionAbdominal', 0)\n",
      "4\n",
      "('distensionAbdominal', 0)\n"
     ]
    }
   ],
   "source": [
    "import numpy as np\n",
    "sols=pandas.read_csv(\"solutions.csv\")\n",
    "for indice_fila, fila in sols.head().iterrows():\n",
    "    print(indice_fila)\n",
    "    p=list(fila[1:])\n",
    "    print (p[0])"
   ]
  },
  {
   "cell_type": "code",
   "execution_count": null,
   "metadata": {},
   "outputs": [],
   "source": []
  }
 ],
 "metadata": {
  "kernelspec": {
   "display_name": "Python 3",
   "language": "python",
   "name": "python3"
  },
  "language_info": {
   "codemirror_mode": {
    "name": "ipython",
    "version": 3
   },
   "file_extension": ".py",
   "mimetype": "text/x-python",
   "name": "python",
   "nbconvert_exporter": "python",
   "pygments_lexer": "ipython3",
   "version": "3.6.4"
  }
 },
 "nbformat": 4,
 "nbformat_minor": 2
}
