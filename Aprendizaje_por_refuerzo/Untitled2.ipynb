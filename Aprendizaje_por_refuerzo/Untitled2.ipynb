{
 "cells": [
  {
   "cell_type": "code",
   "execution_count": 8,
   "metadata": {},
   "outputs": [],
   "source": []
  },
  {
   "cell_type": "code",
   "execution_count": 9,
   "metadata": {},
   "outputs": [
    {
     "data": {
      "text/plain": [
       "array([[[6.23042070e-307, 1.86918699e-306, 1.69121096e-306],\n",
       "        [1.24611266e-306, 1.37962320e-306, 1.42417900e-306],\n",
       "        [1.78019082e-306, 1.37961913e-306, 6.23057349e-307]],\n",
       "\n",
       "       [[1.02360935e-306, 1.69120416e-306, 1.78022342e-306],\n",
       "        [6.23058028e-307, 1.06811422e-306, 1.22383391e-307],\n",
       "        [8.01097889e-307, 1.78020169e-306, 7.56601165e-307]],\n",
       "\n",
       "       [[1.02359984e-306, 1.33510679e-306, 2.22522597e-306],\n",
       "        [1.24611674e-306, 1.29061821e-306, 6.23057349e-307],\n",
       "        [9.34600963e-307, 9.34608432e-307, 2.56765117e-312]]])"
      ]
     },
     "execution_count": 9,
     "metadata": {},
     "output_type": "execute_result"
    }
   ],
   "source": []
  },
  {
   "cell_type": "code",
   "execution_count": null,
   "metadata": {},
   "outputs": [],
   "source": []
  }
 ],
 "metadata": {
  "kernelspec": {
   "display_name": "Python 3",
   "language": "python",
   "name": "python3"
  },
  "language_info": {
   "codemirror_mode": {
    "name": "ipython",
    "version": 3
   },
   "file_extension": ".py",
   "mimetype": "text/x-python",
   "name": "python",
   "nbconvert_exporter": "python",
   "pygments_lexer": "ipython3",
   "version": "3.6.4"
  }
 },
 "nbformat": 4,
 "nbformat_minor": 2
}
